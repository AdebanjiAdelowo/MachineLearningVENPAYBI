{
    "cells": [
        {
            "attachments": {},
            "cell_type": "markdown",
            "metadata": {
                "azdata_cell_guid": "2c3a6e33-5aec-4863-81ac-f4cbd3d055f7",
                "language": "python"
            },
            "source": [
                "## Working with the DataBase: VENPAYBI"
            ]
        },
        {
            "cell_type": "markdown",
            "metadata": {},
            "source": [
                "### The Table BiTXEVAProcessors"
            ]
        },
        {
            "cell_type": "code",
            "execution_count": 1,
            "metadata": {
                "azdata_cell_guid": "15fc9074-c16f-4a3c-acdd-7f3284f94f5e",
                "language": "python"
            },
            "outputs": [],
            "source": [
                "import os\n",
                "import sys\n",
                "import warnings\n",
                "warnings.filterwarnings('ignore')"
            ]
        },
        {
            "cell_type": "code",
            "execution_count": 2,
            "metadata": {},
            "outputs": [
                {
                    "data": {
                        "text/plain": [
                            "['SQL Server',\n",
                            " 'Microsoft Access Driver (*.mdb, *.accdb)',\n",
                            " 'Microsoft Excel Driver (*.xls, *.xlsx, *.xlsm, *.xlsb)',\n",
                            " 'Microsoft Access Text Driver (*.txt, *.csv)',\n",
                            " 'SQL Server Native Client RDA 11.0',\n",
                            " 'ODBC Driver 17 for SQL Server']"
                        ]
                    },
                    "execution_count": 2,
                    "metadata": {},
                    "output_type": "execute_result"
                }
            ],
            "source": [
                "import pyodbc\n",
                "pyodbc.drivers()"
            ]
        },
        {
            "attachments": {},
            "cell_type": "markdown",
            "metadata": {
                "azdata_cell_guid": "5121447d-3efb-4e59-ba7d-b1d914cbb7aa",
                "language": "python"
            },
            "source": [
                "First establish connection to the database using python"
            ]
        },
        {
            "cell_type": "code",
            "execution_count": 3,
            "metadata": {
                "azdata_cell_guid": "e9fc3837-b044-4902-8cee-d2badf7d5b58",
                "language": "python"
            },
            "outputs": [],
            "source": [
                "import pandas as pd\n",
                "import matplotlib.pyplot as plt\n",
                "\n",
                "\n",
                "# server = 'localhost\\sqlexpress' # for a named instance\n",
                "# server = 'myserver,port' # to specify an alternate port\n",
                "server = 'vpay-asdmi.public.21203d2a181c.database.windows.net,3342' \n",
                "database = 'VENPAY-BI' \n",
                "username = 'nandaa' \n",
                "password = 'Timileyin1998'  \n",
                "\n",
                "engine = pyodbc.connect('DRIVER={SQL Server};SERVER='+server+';DATABASE='+database+';UID='+username+';PWD='+ password)\n",
                "cursor = engine.cursor()"
            ]
        },
        {
            "cell_type": "code",
            "execution_count": null,
            "metadata": {},
            "outputs": [
                {
                    "data": {
                        "text/html": [
                            "<div>\n",
                            "<style scoped>\n",
                            "    .dataframe tbody tr th:only-of-type {\n",
                            "        vertical-align: middle;\n",
                            "    }\n",
                            "\n",
                            "    .dataframe tbody tr th {\n",
                            "        vertical-align: top;\n",
                            "    }\n",
                            "\n",
                            "    .dataframe thead th {\n",
                            "        text-align: right;\n",
                            "    }\n",
                            "</style>\n",
                            "<table border=\"1\" class=\"dataframe\">\n",
                            "  <thead>\n",
                            "    <tr style=\"text-align: right;\">\n",
                            "      <th></th>\n",
                            "      <th>PK_BiTXEVAProcessorId</th>\n",
                            "      <th>Hostname</th>\n",
                            "      <th>LastKpi</th>\n",
                            "    </tr>\n",
                            "  </thead>\n",
                            "  <tbody>\n",
                            "    <tr>\n",
                            "      <th>0</th>\n",
                            "      <td>1</td>\n",
                            "      <td>apps04</td>\n",
                            "      <td>2023-07-18 10:55:00</td>\n",
                            "    </tr>\n",
                            "    <tr>\n",
                            "      <th>1</th>\n",
                            "      <td>2</td>\n",
                            "      <td>apps02</td>\n",
                            "      <td>2023-02-03 05:55:00</td>\n",
                            "    </tr>\n",
                            "    <tr>\n",
                            "      <th>2</th>\n",
                            "      <td>3</td>\n",
                            "      <td>rd501ac560a00a</td>\n",
                            "      <td>2023-04-13 17:40:00</td>\n",
                            "    </tr>\n",
                            "    <tr>\n",
                            "      <th>3</th>\n",
                            "      <td>4</td>\n",
                            "      <td>rd501ac56e48c0</td>\n",
                            "      <td>2023-03-07 17:10:00</td>\n",
                            "    </tr>\n",
                            "    <tr>\n",
                            "      <th>4</th>\n",
                            "      <td>5</td>\n",
                            "      <td>rd501ac56e3e63</td>\n",
                            "      <td>2023-01-21 17:00:00</td>\n",
                            "    </tr>\n",
                            "    <tr>\n",
                            "      <th>...</th>\n",
                            "      <td>...</td>\n",
                            "      <td>...</td>\n",
                            "      <td>...</td>\n",
                            "    </tr>\n",
                            "    <tr>\n",
                            "      <th>279</th>\n",
                            "      <td>280</td>\n",
                            "      <td>pd0mdwk0000se</td>\n",
                            "      <td>2023-07-18 10:55:00</td>\n",
                            "    </tr>\n",
                            "    <tr>\n",
                            "      <th>280</th>\n",
                            "      <td>281</td>\n",
                            "      <td>pd0mdwk0001mo</td>\n",
                            "      <td>2023-07-14 03:05:00</td>\n",
                            "    </tr>\n",
                            "    <tr>\n",
                            "      <th>281</th>\n",
                            "      <td>282</td>\n",
                            "      <td>pd0mdwk00029u</td>\n",
                            "      <td>2023-07-17 03:00:00</td>\n",
                            "    </tr>\n",
                            "    <tr>\n",
                            "      <th>282</th>\n",
                            "      <td>283</td>\n",
                            "      <td>pd1mdwk00002p</td>\n",
                            "      <td>2023-07-18 10:55:00</td>\n",
                            "    </tr>\n",
                            "    <tr>\n",
                            "      <th>283</th>\n",
                            "      <td>284</td>\n",
                            "      <td>pd1mdwk00008u</td>\n",
                            "      <td>2023-07-18 01:40:00</td>\n",
                            "    </tr>\n",
                            "  </tbody>\n",
                            "</table>\n",
                            "<p>284 rows × 3 columns</p>\n",
                            "</div>"
                        ],
                        "text/plain": [
                            "     PK_BiTXEVAProcessorId        Hostname             LastKpi\n",
                            "0                        1          apps04 2023-07-18 10:55:00\n",
                            "1                        2          apps02 2023-02-03 05:55:00\n",
                            "2                        3  rd501ac560a00a 2023-04-13 17:40:00\n",
                            "3                        4  rd501ac56e48c0 2023-03-07 17:10:00\n",
                            "4                        5  rd501ac56e3e63 2023-01-21 17:00:00\n",
                            "..                     ...             ...                 ...\n",
                            "279                    280   pd0mdwk0000se 2023-07-18 10:55:00\n",
                            "280                    281   pd0mdwk0001mo 2023-07-14 03:05:00\n",
                            "281                    282   pd0mdwk00029u 2023-07-17 03:00:00\n",
                            "282                    283   pd1mdwk00002p 2023-07-18 10:55:00\n",
                            "283                    284   pd1mdwk00008u 2023-07-18 01:40:00\n",
                            "\n",
                            "[284 rows x 3 columns]"
                        ]
                    },
                    "execution_count": 34,
                    "metadata": {},
                    "output_type": "execute_result"
                }
            ],
            "source": [
                "query = \"\"\"\n",
                "        SELECT *\n",
                "  FROM [VENPAY-BI].[dbo].[BiTXEVAProcessors]\n",
                " \"\"\"\n",
                "\n",
                "df_bitx4 = pd.read_sql(query, engine)\n",
                "df_bitx4"
            ]
        }
    ],
    "metadata": {
        "kernelspec": {
            "display_name": "Python 3 (ipykernel)",
            "language": "python",
            "name": "python3"
        },
        "language_info": {
            "codemirror_mode": {
                "name": "ipython",
                "version": 3
            },
            "file_extension": ".py",
            "mimetype": "text/x-python",
            "name": "python",
            "nbconvert_exporter": "python",
            "pygments_lexer": "ipython3",
            "version": "3.10.9"
        }
    },
    "nbformat": 4,
    "nbformat_minor": 2
}

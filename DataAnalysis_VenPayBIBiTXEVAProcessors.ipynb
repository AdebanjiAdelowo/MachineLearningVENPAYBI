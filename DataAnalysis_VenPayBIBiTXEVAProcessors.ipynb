{
    "cells": [
        {
            "attachments": {},
            "cell_type": "markdown",
            "metadata": {
                "azdata_cell_guid": "2c3a6e33-5aec-4863-81ac-f4cbd3d055f7",
                "language": "python"
            },
            "source": [
                "## Working with the DataBase: VENPAYBI"
            ]
        },
        {
            "cell_type": "markdown",
            "metadata": {},
            "source": [
                "### The Table BiTXEVAProcessors"
            ]
        },
        {
            "cell_type": "code",
            "execution_count": 1,
            "metadata": {
                "azdata_cell_guid": "15fc9074-c16f-4a3c-acdd-7f3284f94f5e",
                "language": "python"
            },
            "outputs": [],
            "source": [
                "import os\n",
                "import sys\n",
                "import warnings\n",
                "warnings.filterwarnings('ignore')\n",
                "\n",
                "sys.path.insert(1, r'C:\\Users\\AdebanjiAdelowo\\OneDrive - N-and Group Ltd\\Documents\\N-ANDITALIA\\Private')\n",
                "import securitydetail"
            ]
        },
        {
            "cell_type": "code",
            "execution_count": 2,
            "metadata": {},
            "outputs": [
                {
                    "data": {
                        "text/plain": [
                            "['SQL Server',\n",
                            " 'Microsoft Access Driver (*.mdb, *.accdb)',\n",
                            " 'Microsoft Excel Driver (*.xls, *.xlsx, *.xlsm, *.xlsb)',\n",
                            " 'Microsoft Access Text Driver (*.txt, *.csv)',\n",
                            " 'SQL Server Native Client RDA 11.0',\n",
                            " 'ODBC Driver 17 for SQL Server']"
                        ]
                    },
                    "execution_count": 2,
                    "metadata": {},
                    "output_type": "execute_result"
                }
            ],
            "source": [
                "import pyodbc\n",
                "pyodbc.drivers()"
            ]
        },
        {
            "attachments": {},
            "cell_type": "markdown",
            "metadata": {
                "azdata_cell_guid": "5121447d-3efb-4e59-ba7d-b1d914cbb7aa",
                "language": "python"
            },
            "source": [
                "First establish connection to the database using python"
            ]
        },
        {
            "cell_type": "code",
            "execution_count": 3,
            "metadata": {
                "azdata_cell_guid": "e9fc3837-b044-4902-8cee-d2badf7d5b58",
                "language": "python"
            },
            "outputs": [],
            "source": [
                "import pandas as pd\n",
                "import matplotlib.pyplot as plt\n",
                "\n",
                "\n",
                "# server = 'localhost\\sqlexpress' # for a named instance\n",
                "# server = 'myserver,port' # to specify an alternate port\n",
                "\n",
                "server =  securitydetail.server\n",
                "database =  securitydetail.database \n",
                "username = securitydetail.username\n",
                "password = securitydetail.password    \n",
                "\n",
                "engine = pyodbc.connect('DRIVER={SQL Server};SERVER='+server+';DATABASE='+database+';UID='+username+';PWD='+ password)\n",
                "cursor = engine.cursor()"
            ]
        },
        {
            "cell_type": "code",
            "execution_count": 4,
            "metadata": {},
            "outputs": [
                {
                    "data": {
                        "text/html": [
                            "<div>\n",
                            "<style scoped>\n",
                            "    .dataframe tbody tr th:only-of-type {\n",
                            "        vertical-align: middle;\n",
                            "    }\n",
                            "\n",
                            "    .dataframe tbody tr th {\n",
                            "        vertical-align: top;\n",
                            "    }\n",
                            "\n",
                            "    .dataframe thead th {\n",
                            "        text-align: right;\n",
                            "    }\n",
                            "</style>\n",
                            "<table border=\"1\" class=\"dataframe\">\n",
                            "  <thead>\n",
                            "    <tr style=\"text-align: right;\">\n",
                            "      <th></th>\n",
                            "      <th>PK_BiTXEVAProcessorId</th>\n",
                            "      <th>Hostname</th>\n",
                            "      <th>LastKpi</th>\n",
                            "    </tr>\n",
                            "  </thead>\n",
                            "  <tbody>\n",
                            "    <tr>\n",
                            "      <th>0</th>\n",
                            "      <td>1</td>\n",
                            "      <td>apps04</td>\n",
                            "      <td>2023-08-02 09:15:00</td>\n",
                            "    </tr>\n",
                            "    <tr>\n",
                            "      <th>1</th>\n",
                            "      <td>2</td>\n",
                            "      <td>apps02</td>\n",
                            "      <td>2023-02-03 05:55:00</td>\n",
                            "    </tr>\n",
                            "    <tr>\n",
                            "      <th>2</th>\n",
                            "      <td>3</td>\n",
                            "      <td>rd501ac560a00a</td>\n",
                            "      <td>2023-04-13 17:40:00</td>\n",
                            "    </tr>\n",
                            "    <tr>\n",
                            "      <th>3</th>\n",
                            "      <td>4</td>\n",
                            "      <td>rd501ac56e48c0</td>\n",
                            "      <td>2023-03-07 17:10:00</td>\n",
                            "    </tr>\n",
                            "    <tr>\n",
                            "      <th>4</th>\n",
                            "      <td>5</td>\n",
                            "      <td>rd501ac56e3e63</td>\n",
                            "      <td>2023-01-21 17:00:00</td>\n",
                            "    </tr>\n",
                            "    <tr>\n",
                            "      <th>...</th>\n",
                            "      <td>...</td>\n",
                            "      <td>...</td>\n",
                            "      <td>...</td>\n",
                            "    </tr>\n",
                            "    <tr>\n",
                            "      <th>309</th>\n",
                            "      <td>310</td>\n",
                            "      <td>pd1mdwk0000jp</td>\n",
                            "      <td>2023-10-06 08:55:00</td>\n",
                            "    </tr>\n",
                            "    <tr>\n",
                            "      <th>310</th>\n",
                            "      <td>311</td>\n",
                            "      <td>pd0mdwk000492</td>\n",
                            "      <td>2023-10-09 08:55:00</td>\n",
                            "    </tr>\n",
                            "    <tr>\n",
                            "      <th>311</th>\n",
                            "      <td>312</td>\n",
                            "      <td>pd0mdwk0004ag</td>\n",
                            "      <td>2023-10-10 08:55:00</td>\n",
                            "    </tr>\n",
                            "    <tr>\n",
                            "      <th>312</th>\n",
                            "      <td>313</td>\n",
                            "      <td>pd1mdwk000065</td>\n",
                            "      <td>2023-10-10 10:55:00</td>\n",
                            "    </tr>\n",
                            "    <tr>\n",
                            "      <th>313</th>\n",
                            "      <td>314</td>\n",
                            "      <td>pd0mdwk0004bf</td>\n",
                            "      <td>2023-10-11 09:00:00</td>\n",
                            "    </tr>\n",
                            "  </tbody>\n",
                            "</table>\n",
                            "<p>314 rows × 3 columns</p>\n",
                            "</div>"
                        ],
                        "text/plain": [
                            "     PK_BiTXEVAProcessorId        Hostname             LastKpi\n",
                            "0                        1          apps04 2023-08-02 09:15:00\n",
                            "1                        2          apps02 2023-02-03 05:55:00\n",
                            "2                        3  rd501ac560a00a 2023-04-13 17:40:00\n",
                            "3                        4  rd501ac56e48c0 2023-03-07 17:10:00\n",
                            "4                        5  rd501ac56e3e63 2023-01-21 17:00:00\n",
                            "..                     ...             ...                 ...\n",
                            "309                    310   pd1mdwk0000jp 2023-10-06 08:55:00\n",
                            "310                    311   pd0mdwk000492 2023-10-09 08:55:00\n",
                            "311                    312   pd0mdwk0004ag 2023-10-10 08:55:00\n",
                            "312                    313   pd1mdwk000065 2023-10-10 10:55:00\n",
                            "313                    314   pd0mdwk0004bf 2023-10-11 09:00:00\n",
                            "\n",
                            "[314 rows x 3 columns]"
                        ]
                    },
                    "execution_count": 4,
                    "metadata": {},
                    "output_type": "execute_result"
                }
            ],
            "source": [
                "query = \"\"\"\n",
                "        SELECT *\n",
                "  FROM [VENPAY-BI].[dbo].[BiTXEVAProcessors]\n",
                " \"\"\"\n",
                "\n",
                "df_bitx4 = pd.read_sql(query, engine)\n",
                "df_bitx4"
            ]
        }
    ],
    "metadata": {
        "kernelspec": {
            "display_name": "Python 3 (ipykernel)",
            "language": "python",
            "name": "python3"
        },
        "language_info": {
            "codemirror_mode": {
                "name": "ipython",
                "version": 3
            },
            "file_extension": ".py",
            "mimetype": "text/x-python",
            "name": "python",
            "nbconvert_exporter": "python",
            "pygments_lexer": "ipython3",
            "version": "3.10.9"
        }
    },
    "nbformat": 4,
    "nbformat_minor": 2
}

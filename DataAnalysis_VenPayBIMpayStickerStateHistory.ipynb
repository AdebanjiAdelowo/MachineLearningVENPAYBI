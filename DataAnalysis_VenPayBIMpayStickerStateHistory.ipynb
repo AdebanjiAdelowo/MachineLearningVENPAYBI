{
    "cells": [
        {
            "attachments": {},
            "cell_type": "markdown",
            "metadata": {
                "azdata_cell_guid": "2c3a6e33-5aec-4863-81ac-f4cbd3d055f7",
                "language": "python"
            },
            "source": [
                "## Working with the DataBase: VENPAYBI"
            ]
        },
        {
            "cell_type": "markdown",
            "metadata": {},
            "source": [
                "### The Table MpayStickerStateHistory"
            ]
        },
        {
            "cell_type": "code",
            "execution_count": 1,
            "metadata": {
                "azdata_cell_guid": "15fc9074-c16f-4a3c-acdd-7f3284f94f5e",
                "language": "python"
            },
            "outputs": [],
            "source": [
                "import os\n",
                "import sys\n",
                "import warnings\n",
                "warnings.filterwarnings('ignore')"
            ]
        },
        {
            "cell_type": "code",
            "execution_count": 2,
            "metadata": {},
            "outputs": [
                {
                    "data": {
                        "text/plain": [
                            "['SQL Server',\n",
                            " 'Microsoft Access Driver (*.mdb, *.accdb)',\n",
                            " 'Microsoft Excel Driver (*.xls, *.xlsx, *.xlsm, *.xlsb)',\n",
                            " 'Microsoft Access Text Driver (*.txt, *.csv)',\n",
                            " 'SQL Server Native Client RDA 11.0',\n",
                            " 'ODBC Driver 17 for SQL Server']"
                        ]
                    },
                    "execution_count": 2,
                    "metadata": {},
                    "output_type": "execute_result"
                }
            ],
            "source": [
                "import pyodbc\n",
                "pyodbc.drivers()"
            ]
        },
        {
            "attachments": {},
            "cell_type": "markdown",
            "metadata": {
                "azdata_cell_guid": "5121447d-3efb-4e59-ba7d-b1d914cbb7aa",
                "language": "python"
            },
            "source": [
                "First establish connection to the database using python"
            ]
        },
        {
            "cell_type": "code",
            "execution_count": 3,
            "metadata": {
                "azdata_cell_guid": "e9fc3837-b044-4902-8cee-d2badf7d5b58",
                "language": "python"
            },
            "outputs": [],
            "source": [
                "import pandas as pd\n",
                "import matplotlib.pyplot as plt\n",
                "\n",
                "\n",
                "# server = 'localhost\\sqlexpress' # for a named instance\n",
                "# server = 'myserver,port' # to specify an alternate port\n",
                "server = 'vpay-asdmi.public.21203d2a181c.database.windows.net,3342' \n",
                "database = 'VENPAY-BI' \n",
                "username = 'nandaa' \n",
                "password = 'Timileyin1998'  \n",
                "\n",
                "engine = pyodbc.connect('DRIVER={SQL Server};SERVER='+server+';DATABASE='+database+';UID='+username+';PWD='+ password)\n",
                "cursor = engine.cursor()"
            ]
        },
        {
            "cell_type": "code",
            "execution_count": 4,
            "metadata": {},
            "outputs": [
                {
                    "ename": "Error",
                    "evalue": "('01000', '[01000] [Microsoft][ODBC SQL Server Driver][DBNETLIB]ConnectionWrite (send()). (10054) (SQLGetData); [01000] [Microsoft][ODBC SQL Server Driver][DBNETLIB]General network error. Check your network documentation. (11)')",
                    "output_type": "error",
                    "traceback": [
                        "\u001b[1;31m---------------------------------------------------------------------------\u001b[0m",
                        "\u001b[1;31mError\u001b[0m                                     Traceback (most recent call last)",
                        "\u001b[1;32mc:\\Users\\AdebanjiAdelowo\\OneDrive - N-and Group Ltd\\Documents\\N-ANDITALIA\\MachineLearningVENPAYBI\\DataAnalysis_VenPayBIMpayStickerStateHistory.ipynb Cell 8\u001b[0m line \u001b[0;36m7\n\u001b[0;32m      <a href='vscode-notebook-cell:/c%3A/Users/AdebanjiAdelowo/OneDrive%20-%20N-and%20Group%20Ltd/Documents/N-ANDITALIA/MachineLearningVENPAYBI/DataAnalysis_VenPayBIMpayStickerStateHistory.ipynb#X10sZmlsZQ%3D%3D?line=0'>1</a>\u001b[0m query \u001b[39m=\u001b[39m \u001b[39m\"\"\"\u001b[39m\n\u001b[0;32m      <a href='vscode-notebook-cell:/c%3A/Users/AdebanjiAdelowo/OneDrive%20-%20N-and%20Group%20Ltd/Documents/N-ANDITALIA/MachineLearningVENPAYBI/DataAnalysis_VenPayBIMpayStickerStateHistory.ipynb#X10sZmlsZQ%3D%3D?line=1'>2</a>\u001b[0m \u001b[39m      SELECT *\u001b[39m\n\u001b[0;32m      <a href='vscode-notebook-cell:/c%3A/Users/AdebanjiAdelowo/OneDrive%20-%20N-and%20Group%20Ltd/Documents/N-ANDITALIA/MachineLearningVENPAYBI/DataAnalysis_VenPayBIMpayStickerStateHistory.ipynb#X10sZmlsZQ%3D%3D?line=2'>3</a>\u001b[0m \u001b[39m  FROM [VENPAY-BI].[dbo].[MpayStickerStateHistory]\u001b[39m\n\u001b[0;32m      <a href='vscode-notebook-cell:/c%3A/Users/AdebanjiAdelowo/OneDrive%20-%20N-and%20Group%20Ltd/Documents/N-ANDITALIA/MachineLearningVENPAYBI/DataAnalysis_VenPayBIMpayStickerStateHistory.ipynb#X10sZmlsZQ%3D%3D?line=3'>4</a>\u001b[0m \u001b[39m \u001b[39m\n\u001b[0;32m      <a href='vscode-notebook-cell:/c%3A/Users/AdebanjiAdelowo/OneDrive%20-%20N-and%20Group%20Ltd/Documents/N-ANDITALIA/MachineLearningVENPAYBI/DataAnalysis_VenPayBIMpayStickerStateHistory.ipynb#X10sZmlsZQ%3D%3D?line=4'>5</a>\u001b[0m \u001b[39m \u001b[39m\u001b[39m\"\"\"\u001b[39m\n\u001b[1;32m----> <a href='vscode-notebook-cell:/c%3A/Users/AdebanjiAdelowo/OneDrive%20-%20N-and%20Group%20Ltd/Documents/N-ANDITALIA/MachineLearningVENPAYBI/DataAnalysis_VenPayBIMpayStickerStateHistory.ipynb#X10sZmlsZQ%3D%3D?line=6'>7</a>\u001b[0m df_mpay1 \u001b[39m=\u001b[39m pd\u001b[39m.\u001b[39;49mread_sql(query, engine)\n\u001b[0;32m      <a href='vscode-notebook-cell:/c%3A/Users/AdebanjiAdelowo/OneDrive%20-%20N-and%20Group%20Ltd/Documents/N-ANDITALIA/MachineLearningVENPAYBI/DataAnalysis_VenPayBIMpayStickerStateHistory.ipynb#X10sZmlsZQ%3D%3D?line=7'>8</a>\u001b[0m df_mpay1\n",
                        "File \u001b[1;32mc:\\Users\\AdebanjiAdelowo\\anaconda3\\lib\\site-packages\\pandas\\io\\sql.py:564\u001b[0m, in \u001b[0;36mread_sql\u001b[1;34m(sql, con, index_col, coerce_float, params, parse_dates, columns, chunksize)\u001b[0m\n\u001b[0;32m    561\u001b[0m pandas_sql \u001b[39m=\u001b[39m pandasSQL_builder(con)\n\u001b[0;32m    563\u001b[0m \u001b[39mif\u001b[39;00m \u001b[39misinstance\u001b[39m(pandas_sql, SQLiteDatabase):\n\u001b[1;32m--> 564\u001b[0m     \u001b[39mreturn\u001b[39;00m pandas_sql\u001b[39m.\u001b[39;49mread_query(\n\u001b[0;32m    565\u001b[0m         sql,\n\u001b[0;32m    566\u001b[0m         index_col\u001b[39m=\u001b[39;49mindex_col,\n\u001b[0;32m    567\u001b[0m         params\u001b[39m=\u001b[39;49mparams,\n\u001b[0;32m    568\u001b[0m         coerce_float\u001b[39m=\u001b[39;49mcoerce_float,\n\u001b[0;32m    569\u001b[0m         parse_dates\u001b[39m=\u001b[39;49mparse_dates,\n\u001b[0;32m    570\u001b[0m         chunksize\u001b[39m=\u001b[39;49mchunksize,\n\u001b[0;32m    571\u001b[0m     )\n\u001b[0;32m    573\u001b[0m \u001b[39mtry\u001b[39;00m:\n\u001b[0;32m    574\u001b[0m     _is_table_name \u001b[39m=\u001b[39m pandas_sql\u001b[39m.\u001b[39mhas_table(sql)\n",
                        "File \u001b[1;32mc:\\Users\\AdebanjiAdelowo\\anaconda3\\lib\\site-packages\\pandas\\io\\sql.py:2092\u001b[0m, in \u001b[0;36mSQLiteDatabase.read_query\u001b[1;34m(self, sql, index_col, coerce_float, params, parse_dates, chunksize, dtype)\u001b[0m\n\u001b[0;32m   2082\u001b[0m     \u001b[39mreturn\u001b[39;00m \u001b[39mself\u001b[39m\u001b[39m.\u001b[39m_query_iterator(\n\u001b[0;32m   2083\u001b[0m         cursor,\n\u001b[0;32m   2084\u001b[0m         chunksize,\n\u001b[1;32m   (...)\u001b[0m\n\u001b[0;32m   2089\u001b[0m         dtype\u001b[39m=\u001b[39mdtype,\n\u001b[0;32m   2090\u001b[0m     )\n\u001b[0;32m   2091\u001b[0m \u001b[39melse\u001b[39;00m:\n\u001b[1;32m-> 2092\u001b[0m     data \u001b[39m=\u001b[39m \u001b[39mself\u001b[39;49m\u001b[39m.\u001b[39;49m_fetchall_as_list(cursor)\n\u001b[0;32m   2093\u001b[0m     cursor\u001b[39m.\u001b[39mclose()\n\u001b[0;32m   2095\u001b[0m     frame \u001b[39m=\u001b[39m _wrap_result(\n\u001b[0;32m   2096\u001b[0m         data,\n\u001b[0;32m   2097\u001b[0m         columns,\n\u001b[1;32m   (...)\u001b[0m\n\u001b[0;32m   2101\u001b[0m         dtype\u001b[39m=\u001b[39mdtype,\n\u001b[0;32m   2102\u001b[0m     )\n",
                        "File \u001b[1;32mc:\\Users\\AdebanjiAdelowo\\anaconda3\\lib\\site-packages\\pandas\\io\\sql.py:2106\u001b[0m, in \u001b[0;36mSQLiteDatabase._fetchall_as_list\u001b[1;34m(self, cur)\u001b[0m\n\u001b[0;32m   2105\u001b[0m \u001b[39mdef\u001b[39;00m \u001b[39m_fetchall_as_list\u001b[39m(\u001b[39mself\u001b[39m, cur):\n\u001b[1;32m-> 2106\u001b[0m     result \u001b[39m=\u001b[39m cur\u001b[39m.\u001b[39;49mfetchall()\n\u001b[0;32m   2107\u001b[0m     \u001b[39mif\u001b[39;00m \u001b[39mnot\u001b[39;00m \u001b[39misinstance\u001b[39m(result, \u001b[39mlist\u001b[39m):\n\u001b[0;32m   2108\u001b[0m         result \u001b[39m=\u001b[39m \u001b[39mlist\u001b[39m(result)\n",
                        "\u001b[1;31mError\u001b[0m: ('01000', '[01000] [Microsoft][ODBC SQL Server Driver][DBNETLIB]ConnectionWrite (send()). (10054) (SQLGetData); [01000] [Microsoft][ODBC SQL Server Driver][DBNETLIB]General network error. Check your network documentation. (11)')"
                    ]
                }
            ],
            "source": [
                "query = \"\"\"\n",
                "      SELECT *\n",
                "  FROM [VENPAY-BI].[dbo].[MpayStickerStateHistory]\n",
                " \n",
                " \"\"\"\n",
                "\n",
                "df_mpay1 = pd.read_sql(query, engine)\n",
                "df_mpay1\n"
            ]
        }
    ],
    "metadata": {
        "kernelspec": {
            "display_name": "Python 3 (ipykernel)",
            "language": "python",
            "name": "python3"
        },
        "language_info": {
            "codemirror_mode": {
                "name": "ipython",
                "version": 3
            },
            "file_extension": ".py",
            "mimetype": "text/x-python",
            "name": "python",
            "nbconvert_exporter": "python",
            "pygments_lexer": "ipython3",
            "version": "3.10.9"
        }
    },
    "nbformat": 4,
    "nbformat_minor": 2
}
